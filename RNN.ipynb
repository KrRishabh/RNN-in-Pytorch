{
  "nbformat": 4,
  "nbformat_minor": 0,
  "metadata": {
    "colab": {
      "provenance": [],
      "authorship_tag": "ABX9TyNiF8z+9Oh8l+kPDu3XtYoq",
      "include_colab_link": true
    },
    "kernelspec": {
      "name": "python3",
      "display_name": "Python 3"
    },
    "language_info": {
      "name": "python"
    }
  },
  "cells": [
    {
      "cell_type": "markdown",
      "metadata": {
        "id": "view-in-github",
        "colab_type": "text"
      },
      "source": [
        "<a href=\"https://colab.research.google.com/github/KrRishabh/RNN-in-Pytorch/blob/main/RNN.ipynb\" target=\"_parent\"><img src=\"https://colab.research.google.com/assets/colab-badge.svg\" alt=\"Open In Colab\"/></a>"
      ]
    },
    {
      "cell_type": "code",
      "execution_count": 1,
      "metadata": {
        "id": "YJbSh4ej-I1n"
      },
      "outputs": [],
      "source": [
        "\n",
        "### import libraries\n",
        "import torch\n",
        "import torch.nn as nn\n",
        "import numpy as np\n",
        ""
      ]
    },
    {
      "cell_type": "code",
      "source": [
        "# set layer parameters\n",
        "input_size  =  9 # number of features to extract (e.g., number of data channels)\n",
        "hidden_size = 16 # number of units in the hidden state\n",
        "num_layers  =  1 # number of vertical stacks of hidden layers (note: only the final layer gives an output)\n",
        "actfun      = 'tanh'\n",
        "bias        = True\n",
        "\n",
        "# create an RNN instance\n",
        "rnn = nn.RNN(input_size,hidden_size,num_layers,nonlinearity=actfun,bias=bias)\n",
        "print(rnn)"
      ],
      "metadata": {
        "colab": {
          "base_uri": "https://localhost:8080/"
        },
        "id": "_JSScZ_E-KUQ",
        "outputId": "921f25c0-0ea1-4eee-ed23-fd00ac161a8e"
      },
      "execution_count": 2,
      "outputs": [
        {
          "output_type": "stream",
          "name": "stdout",
          "text": [
            "RNN(9, 16)\n"
          ]
        }
      ]
    },
    {
      "cell_type": "code",
      "source": [
        "# set data parameters\n",
        "seqlength = 5\n",
        "batchsize = 2\n",
        "\n",
        "# create some data\n",
        "X = torch.rand(seqlength,batchsize,input_size)\n",
        "\n",
        "# create a hidden layer (typically initialized as zeros)\n",
        "hidden = torch.zeros(num_layers,batchsize,hidden_size)\n",
        "\n",
        "\n",
        "# run some data through the model and show the output sizes\n",
        "y,h = rnn(X,hidden)\n",
        "print(f' Input shape: {list(X.shape)}')\n",
        "print(f'Hidden shape: {list(h.shape)}')\n",
        "print(f'Output shape: {list(y.shape)}')\n",
        ""
      ],
      "metadata": {
        "colab": {
          "base_uri": "https://localhost:8080/"
        },
        "id": "9qpCs8jh-OOA",
        "outputId": "12a606a9-bf44-4a3a-c156-904f9fdfd693"
      },
      "execution_count": 3,
      "outputs": [
        {
          "output_type": "stream",
          "name": "stdout",
          "text": [
            " Input shape: [5, 2, 9]\n",
            "Hidden shape: [1, 2, 16]\n",
            "Output shape: [5, 2, 16]\n"
          ]
        }
      ]
    },
    {
      "cell_type": "code",
      "source": [
        "X"
      ],
      "metadata": {
        "colab": {
          "base_uri": "https://localhost:8080/"
        },
        "id": "OK7U9Imo-45d",
        "outputId": "a2c6ec6f-03fe-4d66-8220-c9fe1bcfafe3"
      },
      "execution_count": 4,
      "outputs": [
        {
          "output_type": "execute_result",
          "data": {
            "text/plain": [
              "tensor([[[0.7124, 0.8268, 0.6505, 0.6392, 0.1949, 0.1660, 0.9832, 0.2186,\n",
              "          0.1415],\n",
              "         [0.6042, 0.6245, 0.5489, 0.9903, 0.9862, 0.0162, 0.8493, 0.0171,\n",
              "          0.1573]],\n",
              "\n",
              "        [[0.9987, 0.6623, 0.1594, 0.1162, 0.5679, 0.4654, 0.4227, 0.7844,\n",
              "          0.8729],\n",
              "         [0.3261, 0.1932, 0.1789, 0.1211, 0.4954, 0.5682, 0.6585, 0.9681,\n",
              "          0.8899]],\n",
              "\n",
              "        [[0.5627, 0.9916, 0.2912, 0.8522, 0.0378, 0.5357, 0.9877, 0.0699,\n",
              "          0.8187],\n",
              "         [0.7047, 0.2444, 0.6404, 0.9799, 0.8291, 0.1972, 0.4736, 0.5714,\n",
              "          0.3698]],\n",
              "\n",
              "        [[0.7868, 0.0430, 0.5079, 0.2597, 0.0209, 0.4889, 0.4004, 0.0909,\n",
              "          0.9572],\n",
              "         [0.2797, 0.4605, 0.7898, 0.0445, 0.8399, 0.8541, 0.5313, 0.6067,\n",
              "          0.0353]],\n",
              "\n",
              "        [[0.5474, 0.4118, 0.7763, 0.7338, 0.4825, 0.9859, 0.5320, 0.5255,\n",
              "          0.1174],\n",
              "         [0.8845, 0.0939, 0.6210, 0.6325, 0.4380, 0.9568, 0.7112, 0.8778,\n",
              "          0.4794]]])"
            ]
          },
          "metadata": {},
          "execution_count": 4
        }
      ]
    },
    {
      "cell_type": "code",
      "source": [
        "\n",
        "## Default hidden state is all zeros if nothing specified:\n",
        "y,h1 = rnn(X,hidden)\n",
        "print(h1), print('\\n\\n')\n",
        "\n",
        "y,h2 = rnn(X)\n",
        "print(h2), print('\\n\\n')\n",
        "\n",
        "# they're the same! (meaning default=zeros)\n",
        "print(h1-h2)"
      ],
      "metadata": {
        "colab": {
          "base_uri": "https://localhost:8080/"
        },
        "id": "ihjHO0kP-_h8",
        "outputId": "8d47cacb-e686-4a0c-e269-d4c4471c9fe2"
      },
      "execution_count": 5,
      "outputs": [
        {
          "output_type": "stream",
          "name": "stdout",
          "text": [
            "tensor([[[ 0.2542, -0.2258, -0.2611, -0.2039, -0.2146, -0.3922, -0.1002,\n",
            "          -0.3635,  0.0133, -0.4380, -0.2633, -0.1005, -0.0487, -0.4496,\n",
            "          -0.0186, -0.0909],\n",
            "         [ 0.4224, -0.4980, -0.1223,  0.0309,  0.0697, -0.7206, -0.0233,\n",
            "          -0.3577,  0.1424, -0.6483, -0.3849,  0.0722, -0.1944, -0.4809,\n",
            "           0.2954,  0.0585]]], grad_fn=<StackBackward0>)\n",
            "\n",
            "\n",
            "\n",
            "tensor([[[ 0.2542, -0.2258, -0.2611, -0.2039, -0.2146, -0.3922, -0.1002,\n",
            "          -0.3635,  0.0133, -0.4380, -0.2633, -0.1005, -0.0487, -0.4496,\n",
            "          -0.0186, -0.0909],\n",
            "         [ 0.4224, -0.4980, -0.1223,  0.0309,  0.0697, -0.7206, -0.0233,\n",
            "          -0.3577,  0.1424, -0.6483, -0.3849,  0.0722, -0.1944, -0.4809,\n",
            "           0.2954,  0.0585]]], grad_fn=<StackBackward0>)\n",
            "\n",
            "\n",
            "\n",
            "tensor([[[0., 0., 0., 0., 0., 0., 0., 0., 0., 0., 0., 0., 0., 0., 0., 0.],\n",
            "         [0., 0., 0., 0., 0., 0., 0., 0., 0., 0., 0., 0., 0., 0., 0., 0.]]],\n",
            "       grad_fn=<SubBackward0>)\n"
          ]
        }
      ]
    },
    {
      "cell_type": "code",
      "source": [
        "\n",
        "# Check out the learned parameters and their sizes\n",
        "for p in rnn.named_parameters():\n",
        "  if 'weight' in p[0]:\n",
        "    print(f'{p[0]} has size {list(p[1].shape)}')"
      ],
      "metadata": {
        "colab": {
          "base_uri": "https://localhost:8080/"
        },
        "id": "I6xzw5ZT_Ib2",
        "outputId": "273c120a-b101-494b-9964-72a423fc5e2e"
      },
      "execution_count": 6,
      "outputs": [
        {
          "output_type": "stream",
          "name": "stdout",
          "text": [
            "weight_ih_l0 has size [16, 9]\n",
            "weight_hh_l0 has size [16, 16]\n"
          ]
        }
      ]
    },
    {
      "cell_type": "code",
      "source": [
        "class RNNnet(nn.Module):\n",
        "  def __init__(self,input_size,num_hidden,num_layers):\n",
        "    super().__init__()\n",
        "\n",
        "    # store parameters\n",
        "    self.input_size = input_size\n",
        "    self.num_hidden = num_hidden\n",
        "    self.num_layers = num_layers\n",
        "\n",
        "    # RNN Layer\n",
        "    self.rnn = nn.RNN(input_size,num_hidden,num_layers)\n",
        "\n",
        "    # linear layer for output\n",
        "    self.out = nn.Linear(num_hidden,1)\n",
        "\n",
        "  def forward(self,x):\n",
        "\n",
        "    print(f'Input: {list(x.shape)}')\n",
        "\n",
        "    # initialize hidden state for first input\n",
        "    hidden = torch.zeros(self.num_layers,batchsize,self.num_hidden)\n",
        "    print(f'Hidden: {list(hidden.shape)}')\n",
        "\n",
        "    # run through the RNN layer\n",
        "    y,hidden = self.rnn(x,hidden)\n",
        "    print(f'RNN-out: {list(y.shape)}')\n",
        "    print(f'RNN-hidden: {list(hidden.shape)}')\n",
        "\n",
        "    # pass the RNN output through the linear output layer\n",
        "    o = self.out(y)\n",
        "    print(f'Output: {list(o.shape)}')\n",
        "\n",
        "    return o,hidden"
      ],
      "metadata": {
        "id": "NWQN5dsPBFOc"
      },
      "execution_count": 7,
      "outputs": []
    },
    {
      "cell_type": "code",
      "source": [
        "\n",
        "# create an instance of the model and inspect\n",
        "net = RNNnet(input_size,hidden_size,num_layers)\n",
        "print(net), print(' ')\n",
        "\n",
        "# and check out all learnable parameters\n",
        "for p in net.named_parameters():\n",
        "  print(f'{p[0]} has size {list(p[1].shape)}')"
      ],
      "metadata": {
        "colab": {
          "base_uri": "https://localhost:8080/"
        },
        "id": "vRtKREF5DLWh",
        "outputId": "ee641c14-2016-4d0e-85f3-deedf382f863"
      },
      "execution_count": 8,
      "outputs": [
        {
          "output_type": "stream",
          "name": "stdout",
          "text": [
            "RNNnet(\n",
            "  (rnn): RNN(9, 16)\n",
            "  (out): Linear(in_features=16, out_features=1, bias=True)\n",
            ")\n",
            " \n",
            "rnn.weight_ih_l0 has size [16, 9]\n",
            "rnn.weight_hh_l0 has size [16, 16]\n",
            "rnn.bias_ih_l0 has size [16]\n",
            "rnn.bias_hh_l0 has size [16]\n",
            "out.weight has size [1, 16]\n",
            "out.bias has size [1]\n"
          ]
        }
      ]
    },
    {
      "cell_type": "code",
      "source": [
        "\n",
        "# test the model with some data\n",
        "# create some data\n",
        "X = torch.rand(seqlength,batchsize,input_size)\n",
        "y = torch.rand(seqlength,batchsize,1)\n",
        "yHat,h = net(X)\n",
        "\n",
        "# try a loss function\n",
        "lossfun = nn.MSELoss()\n",
        "lossfun(yHat,y)"
      ],
      "metadata": {
        "colab": {
          "base_uri": "https://localhost:8080/"
        },
        "id": "vmfDKxSzDM8Q",
        "outputId": "87e6e0ef-c08f-4067-8076-b5c02335a26e"
      },
      "execution_count": 9,
      "outputs": [
        {
          "output_type": "stream",
          "name": "stdout",
          "text": [
            "Input: [5, 2, 9]\n",
            "Hidden: [1, 2, 16]\n",
            "RNN-out: [5, 2, 16]\n",
            "RNN-hidden: [1, 2, 16]\n",
            "Output: [5, 2, 1]\n"
          ]
        },
        {
          "output_type": "execute_result",
          "data": {
            "text/plain": [
              "tensor(0.4411, grad_fn=<MseLossBackward0>)"
            ]
          },
          "metadata": {},
          "execution_count": 9
        }
      ]
    },
    {
      "cell_type": "code",
      "source": [],
      "metadata": {
        "id": "P7Ce2qeZDOZJ"
      },
      "execution_count": null,
      "outputs": []
    }
  ]
}